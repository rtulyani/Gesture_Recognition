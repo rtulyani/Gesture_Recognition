{
 "cells": [
  {
   "cell_type": "markdown",
   "metadata": {},
   "source": [
    "# Gesture Recognition\n",
    "In this group project, you are going to build a 3D Conv model that will be able to predict the 5 gestures correctly. Please import the following libraries to get started. Once you have completed the code you can download the notebook for making a submission."
   ]
  },
  {
   "cell_type": "code",
   "execution_count": 1,
   "metadata": {},
   "outputs": [],
   "source": [
    "import numpy as np\n",
    "import os\n",
    "from imageio import imread\n",
    "from skimage.transform import resize\n",
    "import datetime\n",
    "import os"
   ]
  },
  {
   "cell_type": "markdown",
   "metadata": {},
   "source": [
    "We set the random seed so that the results don't vary drastically."
   ]
  },
  {
   "cell_type": "code",
   "execution_count": 2,
   "metadata": {},
   "outputs": [],
   "source": [
    "np.random.seed(30)\n",
    "import random as rn\n",
    "rn.seed(30)\n",
    "from tensorflow import keras\n",
    "import tensorflow as tf\n",
    "tf.random.set_seed(30)"
   ]
  },
  {
   "cell_type": "code",
   "execution_count": 3,
   "metadata": {},
   "outputs": [],
   "source": [
    "import keras\n",
    "from keras.preprocessing.image import ImageDataGenerator \n",
    "\n",
    "import matplotlib.pyplot as plt\n",
    "import seaborn as sns\n",
    "\n",
    "import warnings\n",
    "warnings.filterwarnings(\"ignore\")"
   ]
  },
  {
   "cell_type": "code",
   "execution_count": 4,
   "metadata": {},
   "outputs": [],
   "source": [
    "from tensorflow.keras.models import Sequential\n",
    "from tensorflow.keras.layers import Dense, GRU, Dropout, Flatten, BatchNormalization, Activation, Conv3D, MaxPooling3D\n",
    "from tensorflow.keras.callbacks import ModelCheckpoint, ReduceLROnPlateau\n",
    "from tensorflow.keras import optimizers"
   ]
  },
  {
   "cell_type": "markdown",
   "metadata": {},
   "source": [
    "In this block, you read the folder names for training and validation. You also set the `batch_size` here. Note that you set the batch size in such a way that you are able to use the GPU in full capacity. You keep increasing the batch size until the machine throws an error."
   ]
  },
  {
   "cell_type": "markdown",
   "metadata": {},
   "source": [
    "**data path: /home/datasets/Project_data**"
   ]
  },
  {
   "cell_type": "code",
   "execution_count": 5,
   "metadata": {},
   "outputs": [],
   "source": [
    "train_doc = np.random.permutation(open('/home/datasets/Project_data/train.csv').readlines())\n",
    "val_doc = np.random.permutation(open('/home/datasets/Project_data/val.csv').readlines())\n",
    "batch_size = 30 #experiment with the batch size"
   ]
  },
  {
   "cell_type": "code",
   "execution_count": 6,
   "metadata": {},
   "outputs": [
    {
     "name": "stdout",
     "output_type": "stream",
     "text": [
      "663\n",
      "100\n"
     ]
    }
   ],
   "source": [
    "print(len(train_doc))\n",
    "print(len(val_doc))"
   ]
  },
  {
   "cell_type": "markdown",
   "metadata": {},
   "source": [
    "## Generator\n",
    "This is one of the most important part of the code. The overall structure of the generator has been given. In the generator, you are going to preprocess the images as you have images of 2 different dimensions as well as create a batch of video frames. You have to experiment with `img_idx`, `y`,`z` and normalization such that you get high accuracy."
   ]
  },
  {
   "cell_type": "code",
   "execution_count": 7,
   "metadata": {},
   "outputs": [],
   "source": [
    "x = 30\n",
    "y = 120\n",
    "z = 120"
   ]
  },
  {
   "cell_type": "code",
   "execution_count": 8,
   "metadata": {},
   "outputs": [],
   "source": [
    "# generator with augmentation for train data\n",
    "def generator(source_path, folder_list, batch_size):\n",
    "    print( 'Source path = ', source_path, '; batch size =', batch_size)\n",
    "    img_idx = [x for x in range(0,x)] #create a list of image numbers you want to use for a particular video\n",
    "    while True:\n",
    "        t = np.random.permutation(folder_list)\n",
    "        num_batches = len(folder_list)//batch_size # calculate the number of batches\n",
    "        for batch in range(num_batches): # we iterate over the number of batches\n",
    "            batch_data = np.zeros((batch_size,x,y,z,3)) # x is the number of images you use for each video, (y,z) is the final size of the input images and 3 is the number of channels RGB\n",
    "            batch_labels = np.zeros((batch_size,5)) # batch_labels is the one hot representation of the output\n",
    "            for folder in range(batch_size): # iterate over the batch_size\n",
    "                imgs = os.listdir(source_path+'/'+ t[folder + (batch*batch_size)].split(';')[0]) # read all the images in the folder\n",
    "                for idx,item in enumerate(img_idx): #  Iterate iver the frames/images of a folder to read them in\n",
    "                    image = imread(source_path+'/'+ t[folder + (batch*batch_size)].strip().split(';')[0]+'/'+imgs[item]).astype(np.float32)\n",
    "                    \n",
    "                    #crop the images and resize them. Note that the images are of 2 different shape \n",
    "                    #and the conv3D will throw error if the inputs in a batch have different shapes\n",
    "                    resized = resize(image,(y,z))\n",
    "                    \n",
    "                    norm = resized/127.5-1 #Normalize data\n",
    "                          \n",
    "                    batch_data[folder,idx,:,:,0] = (norm[:,:,0]) #normalise and feed in the image\n",
    "                    batch_data[folder,idx,:,:,1] = (norm[:,:,1]) #normalise and feed in the image\n",
    "                    batch_data[folder,idx,:,:,2] = (norm[:,:,2]) #normalise and feed in the image\n",
    "                    \n",
    "                batch_labels[folder, int(t[folder + (batch*batch_size)].strip().split(';')[2])] = 1\n",
    "            yield batch_data, batch_labels #you yield the batch_data and the batch_labels, remember what does yield do\n",
    "\n",
    "        \n",
    "        # write the code for the remaining data points which are left after full batches\n",
    "        if (len(folder_list) != batch_size*num_batches):\n",
    "            print(\"Batch: \",num_batches+1,\"Index:\", batch_size)\n",
    "            batch_size = len(folder_list) - (batch_size*num_batches)\n",
    "            batch_data = np.zeros((batch_size,x,y,z,3)) # x is the number of images you use for each video, (y,z) is the final size of the input images and 3 is the number of channels RGB\n",
    "            batch_labels = np.zeros((batch_size,5)) # batch_labels is the one hot representation of the output\n",
    "            for folder in range(batch_size): # iterate over the batch_size\n",
    "                imgs = os.listdir(source_path+'/'+ t[folder + (batch*batch_size)].split(';')[0]) # read all the images in the folder\n",
    "                for idx,item in enumerate(img_idx): #  Iterate iver the frames/images of a folder to read them in\n",
    "                    image = imread(source_path+'/'+ t[folder + (batch*batch_size)].strip().split(';')[0]+'/'+imgs[item]).astype(np.float32)\n",
    "                    \n",
    "                    #crop the images and resize them. Note that the images are of 2 different shape \n",
    "                    #and the conv3D will throw error if the inputs in a batch have different shapes\n",
    "                    resized = resize(image,(y,z))\n",
    "                    \n",
    "                    norm = resized/127.5-1 #Normalize data\n",
    "                    \n",
    "                    batch_data[folder,idx,:,:,0] = (norm[:,:,0]) #normalise and feed in the image\n",
    "                    batch_data[folder,idx,:,:,1] = (norm[:,:,1]) #normalise and feed in the image\n",
    "                    batch_data[folder,idx,:,:,2] = (norm[:,:,2]) #normalise and feed in the image\n",
    "                   \n",
    "                batch_labels[folder, int(t[folder + (batch*batch_size)].strip().split(';')[2])] = 1\n",
    "\n",
    "            yield batch_data, batch_labels"
   ]
  },
  {
   "cell_type": "markdown",
   "metadata": {},
   "source": [
    "Note here that a video is represented above in the generator as (number of images, height, width, number of channels). Take this into consideration while creating the model architecture."
   ]
  },
  {
   "cell_type": "code",
   "execution_count": 9,
   "metadata": {},
   "outputs": [
    {
     "name": "stdout",
     "output_type": "stream",
     "text": [
      "# training sequences = 663\n",
      "# validation sequences = 100\n",
      "# epochs = 10\n"
     ]
    }
   ],
   "source": [
    "curr_dt_time = datetime.datetime.now()\n",
    "train_path = '/home/datasets/Project_data/train'\n",
    "val_path = '/home/datasets/Project_data/val'\n",
    "\n",
    "num_train_sequences = len(train_doc)\n",
    "print('# training sequences =', num_train_sequences)\n",
    "\n",
    "num_val_sequences = len(val_doc)\n",
    "print('# validation sequences =', num_val_sequences)\n",
    "\n",
    "num_epochs = 10 # choose the number of epochs\n",
    "print ('# epochs =', num_epochs)"
   ]
  },
  {
   "cell_type": "code",
   "execution_count": 10,
   "metadata": {},
   "outputs": [],
   "source": [
    "def plot(history):\n",
    "    fig, axes = plt.subplots(nrows=1, ncols=2, figsize=(15,4))\n",
    "    axes[0].plot(history.history['loss'])   \n",
    "    axes[0].plot(history.history['val_loss'])\n",
    "    axes[0].legend(['loss','val_loss'])\n",
    "\n",
    "    axes[1].plot(history.history['categorical_accuracy'])   \n",
    "    axes[1].plot(history.history['val_categorical_accuracy'])\n",
    "    axes[1].legend(['categorical_accuracy','val_categorical_accuracy'])"
   ]
  },
  {
   "cell_type": "markdown",
   "metadata": {},
   "source": [
    "\n",
    "Model Method 1: 3D Convolution## Model\n",
    "Here you make the model using different functionalities that Keras provides. Remember to use `Conv3D` and `MaxPooling3D` and not `Conv2D` and `Maxpooling2D` for a 3D convolution model. You would want to use `TimeDistributed` while building a Conv2D + RNN model. Also remember that the last layer is the softmax. Design the network in such a way that the model is able to give good accuracy on the least number of parameters so that it can fit in the memory of the webcam."
   ]
  },
  {
   "cell_type": "markdown",
   "metadata": {},
   "source": [
    "\n",
    "## Model Method 1: 3D Convolution"
   ]
  },
  {
   "cell_type": "code",
   "execution_count": 11,
   "metadata": {},
   "outputs": [
    {
     "name": "stderr",
     "output_type": "stream",
     "text": [
      "2022-11-23 11:14:33.119048: W tensorflow/core/common_runtime/gpu/gpu_bfc_allocator.cc:39] Overriding allow_growth setting because the TF_FORCE_GPU_ALLOW_GROWTH environment variable is set. Original config value was 0.\n",
      "2022-11-23 11:14:33.119115: I tensorflow/core/common_runtime/gpu/gpu_device.cc:1525] Created device /job:localhost/replica:0/task:0/device:GPU:0 with 14802 MB memory:  -> device: 0, name: Quadro RTX 5000, pci bus id: 0000:3d:00.0, compute capability: 7.5\n"
     ]
    }
   ],
   "source": [
    "# from tensorflow.keras.models import Sequential\n",
    "# from tensorflow.keras.layers import Dense, GRU, Dropout, Flatten, BatchNormalization, Activation, Conv3D, MaxPooling3D\n",
    "# from tensorflow.keras.callbacks import ModelCheckpoint, ReduceLROnPlateau\n",
    "# from tensorflow.keras import optimizers\n",
    "\n",
    "#write your model here\n",
    "\n",
    "model = Sequential()\n",
    "\n",
    "model.add(Conv3D(32, kernel_size = (3,3,3),padding='same', input_shape=(30,120,120,3)))\n",
    "model.add(BatchNormalization())\n",
    "model.add(Activation(\"relu\"))\n",
    "model.add(MaxPooling3D(pool_size=(2, 2, 2)))\n",
    "\n",
    "model.add(Conv3D(64, kernel_size = (3,3,3),padding='same'))\n",
    "model.add(BatchNormalization())\n",
    "model.add(Activation(\"relu\"))\n",
    "model.add(MaxPooling3D(pool_size=(2, 2, 2)))\n",
    "\n",
    "model.add(Conv3D(128, kernel_size = (3,3,3),padding='same'))\n",
    "model.add(BatchNormalization())\n",
    "model.add(Activation(\"relu\"))\n",
    "model.add(MaxPooling3D(pool_size=(2, 2, 2)))\n",
    "model.add(Dropout(0.2))\n",
    "\n",
    "model.add(Flatten())\n",
    "\n",
    "model.add(Dense(1000, activation='relu'))\n",
    "model.add(Dropout(0.2))\n",
    "\n",
    "model.add(Dense(500, activation='relu'))\n",
    "model.add(Dropout(0.2))\n",
    "\n",
    "# 5 gestures 5 classes\n",
    "model.add(Dense(5, activation = 'softmax'))"
   ]
  },
  {
   "cell_type": "markdown",
   "metadata": {},
   "source": [
    "Now that you have written the model, the next step is to `compile` the model. When you print the `summary` of the model, you'll see the total number of parameters you have to train."
   ]
  },
  {
   "cell_type": "code",
   "execution_count": 12,
   "metadata": {
    "scrolled": true
   },
   "outputs": [
    {
     "name": "stdout",
     "output_type": "stream",
     "text": [
      "Model: \"sequential\"\n",
      "_________________________________________________________________\n",
      " Layer (type)                Output Shape              Param #   \n",
      "=================================================================\n",
      " conv3d (Conv3D)             (None, 30, 120, 120, 32)  2624      \n",
      "                                                                 \n",
      " batch_normalization (BatchN  (None, 30, 120, 120, 32)  128      \n",
      " ormalization)                                                   \n",
      "                                                                 \n",
      " activation (Activation)     (None, 30, 120, 120, 32)  0         \n",
      "                                                                 \n",
      " max_pooling3d (MaxPooling3D  (None, 15, 60, 60, 32)   0         \n",
      " )                                                               \n",
      "                                                                 \n",
      " conv3d_1 (Conv3D)           (None, 15, 60, 60, 64)    55360     \n",
      "                                                                 \n",
      " batch_normalization_1 (Batc  (None, 15, 60, 60, 64)   256       \n",
      " hNormalization)                                                 \n",
      "                                                                 \n",
      " activation_1 (Activation)   (None, 15, 60, 60, 64)    0         \n",
      "                                                                 \n",
      " max_pooling3d_1 (MaxPooling  (None, 7, 30, 30, 64)    0         \n",
      " 3D)                                                             \n",
      "                                                                 \n",
      " conv3d_2 (Conv3D)           (None, 7, 30, 30, 128)    221312    \n",
      "                                                                 \n",
      " batch_normalization_2 (Batc  (None, 7, 30, 30, 128)   512       \n",
      " hNormalization)                                                 \n",
      "                                                                 \n",
      " activation_2 (Activation)   (None, 7, 30, 30, 128)    0         \n",
      "                                                                 \n",
      " max_pooling3d_2 (MaxPooling  (None, 3, 15, 15, 128)   0         \n",
      " 3D)                                                             \n",
      "                                                                 \n",
      " dropout (Dropout)           (None, 3, 15, 15, 128)    0         \n",
      "                                                                 \n",
      " flatten (Flatten)           (None, 86400)             0         \n",
      "                                                                 \n",
      " dense (Dense)               (None, 1000)              86401000  \n",
      "                                                                 \n",
      " dropout_1 (Dropout)         (None, 1000)              0         \n",
      "                                                                 \n",
      " dense_1 (Dense)             (None, 500)               500500    \n",
      "                                                                 \n",
      " dropout_2 (Dropout)         (None, 500)               0         \n",
      "                                                                 \n",
      " dense_2 (Dense)             (None, 5)                 2505      \n",
      "                                                                 \n",
      "=================================================================\n",
      "Total params: 87,184,197\n",
      "Trainable params: 87,183,749\n",
      "Non-trainable params: 448\n",
      "_________________________________________________________________\n",
      "None\n"
     ]
    }
   ],
   "source": [
    "optimiser = optimizers.Adam(lr = 0.001) #write your optimizer\n",
    "model.compile(optimizer=optimiser, loss='categorical_crossentropy', metrics=['categorical_accuracy'])\n",
    "print (model.summary())"
   ]
  },
  {
   "cell_type": "markdown",
   "metadata": {},
   "source": [
    "Let us create the `train_generator` and the `val_generator` which will be used in `.fit_generator`."
   ]
  },
  {
   "cell_type": "markdown",
   "metadata": {},
   "source": [
    "Let us create the `train_generator` and the `val_generator` which will be used in `.fit_generator`."
   ]
  },
  {
   "cell_type": "code",
   "execution_count": 13,
   "metadata": {},
   "outputs": [],
   "source": [
    "train_generator = generator(train_path, train_doc, batch_size)\n",
    "val_generator = generator(val_path, val_doc, batch_size)"
   ]
  },
  {
   "cell_type": "code",
   "execution_count": 14,
   "metadata": {},
   "outputs": [],
   "source": [
    "model_name = 'model_init' + '_' + str(curr_dt_time).replace(' ','').replace(':','_') + '/'\n",
    "    \n",
    "if not os.path.exists(model_name):\n",
    "    os.mkdir(model_name)\n",
    "        \n",
    "filepath = model_name + 'model-{epoch:05d}-{loss:.5f}-{categorical_accuracy:.5f}-{val_loss:.5f}-{val_categorical_accuracy:.5f}.h5'\n",
    "\n",
    "checkpoint = ModelCheckpoint(filepath, monitor='val_loss', verbose=1, save_best_only=True, save_weights_only=False, mode='auto',save_freq = \"epoch\")\n",
    "\n",
    "LR = ReduceLROnPlateau(monitor='val_loss', factor=0.5, patience=2, cooldown=1, verbose=1) # write the REducelronplateau code here\n",
    "callbacks_list = [checkpoint, LR]"
   ]
  },
  {
   "cell_type": "markdown",
   "metadata": {},
   "source": [
    "The `steps_per_epoch` and `validation_steps` are used by `fit` method to decide the number of next() calls it need to make."
   ]
  },
  {
   "cell_type": "code",
   "execution_count": 15,
   "metadata": {},
   "outputs": [],
   "source": [
    "if (num_train_sequences%batch_size) == 0:\n",
    "    steps_per_epoch = int(num_train_sequences/batch_size)\n",
    "else:\n",
    "    steps_per_epoch = (num_train_sequences//batch_size) + 1\n",
    "\n",
    "if (num_val_sequences%batch_size) == 0:\n",
    "    validation_steps = int(num_val_sequences/batch_size)\n",
    "else:\n",
    "    validation_steps = (num_val_sequences//batch_size) + 1"
   ]
  },
  {
   "cell_type": "markdown",
   "metadata": {},
   "source": [
    "Let us now fit the model. This will start training the model and with the help of the checkpoints, you'll be able to save the model at the end of each epoch."
   ]
  },
  {
   "cell_type": "code",
   "execution_count": 16,
   "metadata": {},
   "outputs": [
    {
     "name": "stdout",
     "output_type": "stream",
     "text": [
      "Source path =  /home/datasets/Project_data/train ; batch size = 30\n",
      "Epoch 1/10\n"
     ]
    },
    {
     "name": "stderr",
     "output_type": "stream",
     "text": [
      "2022-11-23 11:14:41.302327: I tensorflow/stream_executor/cuda/cuda_dnn.cc:377] Loaded cuDNN version 8302\n"
     ]
    },
    {
     "name": "stdout",
     "output_type": "stream",
     "text": [
      "21/23 [==========================>...] - ETA: 11s - loss: 61.9285 - categorical_accuracy: 0.2921Batch:  23 Index: 30\n",
      "23/23 [==============================] - ETA: 0s - loss: 59.7684 - categorical_accuracy: 0.2926Source path =  /home/datasets/Project_data/val ; batch size = 30\n",
      "Batch:  4 Index: 30\n",
      "\n",
      "Epoch 00001: val_loss improved from inf to 49.17648, saving model to model_init_2022-11-2311_14_32.373018/model-00001-59.76838-0.29261-49.17648-0.20000.h5\n",
      "23/23 [==============================] - 161s 7s/step - loss: 59.7684 - categorical_accuracy: 0.2926 - val_loss: 49.1765 - val_categorical_accuracy: 0.2000 - lr: 0.0010\n",
      "Epoch 2/10\n",
      "23/23 [==============================] - ETA: 0s - loss: 16.0042 - categorical_accuracy: 0.3043\n",
      "Epoch 00002: val_loss improved from 49.17648 to 16.47742, saving model to model_init_2022-11-2311_14_32.373018/model-00002-16.00416-0.30435-16.47742-0.35000.h5\n",
      "23/23 [==============================] - 28s 1s/step - loss: 16.0042 - categorical_accuracy: 0.3043 - val_loss: 16.4774 - val_categorical_accuracy: 0.3500 - lr: 0.0010\n",
      "Epoch 3/10\n",
      "23/23 [==============================] - ETA: 0s - loss: 11.2815 - categorical_accuracy: 0.2609\n",
      "Epoch 00003: val_loss improved from 16.47742 to 9.55917, saving model to model_init_2022-11-2311_14_32.373018/model-00003-11.28154-0.26087-9.55917-0.20000.h5\n",
      "23/23 [==============================] - 27s 1s/step - loss: 11.2815 - categorical_accuracy: 0.2609 - val_loss: 9.5592 - val_categorical_accuracy: 0.2000 - lr: 0.0010\n",
      "Epoch 4/10\n",
      "23/23 [==============================] - ETA: 0s - loss: 8.4230 - categorical_accuracy: 0.2609\n",
      "Epoch 00004: val_loss improved from 9.55917 to 7.37519, saving model to model_init_2022-11-2311_14_32.373018/model-00004-8.42303-0.26087-7.37519-0.25000.h5\n",
      "23/23 [==============================] - 28s 1s/step - loss: 8.4230 - categorical_accuracy: 0.2609 - val_loss: 7.3752 - val_categorical_accuracy: 0.2500 - lr: 0.0010\n",
      "Epoch 5/10\n",
      "23/23 [==============================] - ETA: 0s - loss: 7.3254 - categorical_accuracy: 0.2609\n",
      "Epoch 00005: val_loss improved from 7.37519 to 2.74145, saving model to model_init_2022-11-2311_14_32.373018/model-00005-7.32543-0.26087-2.74145-0.35000.h5\n",
      "23/23 [==============================] - 29s 1s/step - loss: 7.3254 - categorical_accuracy: 0.2609 - val_loss: 2.7415 - val_categorical_accuracy: 0.3500 - lr: 0.0010\n",
      "Epoch 6/10\n",
      "23/23 [==============================] - ETA: 0s - loss: 2.1836 - categorical_accuracy: 0.4783\n",
      "Epoch 00006: val_loss improved from 2.74145 to 2.68959, saving model to model_init_2022-11-2311_14_32.373018/model-00006-2.18359-0.47826-2.68959-0.17500.h5\n",
      "23/23 [==============================] - 27s 1s/step - loss: 2.1836 - categorical_accuracy: 0.4783 - val_loss: 2.6896 - val_categorical_accuracy: 0.1750 - lr: 0.0010\n",
      "Epoch 7/10\n",
      "23/23 [==============================] - ETA: 0s - loss: 1.9543 - categorical_accuracy: 0.3623\n",
      "Epoch 00007: val_loss improved from 2.68959 to 1.48189, saving model to model_init_2022-11-2311_14_32.373018/model-00007-1.95430-0.36232-1.48189-0.45000.h5\n",
      "23/23 [==============================] - 26s 1s/step - loss: 1.9543 - categorical_accuracy: 0.3623 - val_loss: 1.4819 - val_categorical_accuracy: 0.4500 - lr: 0.0010\n",
      "Epoch 8/10\n",
      "23/23 [==============================] - ETA: 0s - loss: 1.5289 - categorical_accuracy: 0.4928\n",
      "Epoch 00008: val_loss improved from 1.48189 to 1.42611, saving model to model_init_2022-11-2311_14_32.373018/model-00008-1.52885-0.49275-1.42611-0.47500.h5\n",
      "23/23 [==============================] - 30s 1s/step - loss: 1.5289 - categorical_accuracy: 0.4928 - val_loss: 1.4261 - val_categorical_accuracy: 0.4750 - lr: 0.0010\n",
      "Epoch 9/10\n",
      "23/23 [==============================] - ETA: 0s - loss: 1.5061 - categorical_accuracy: 0.5217\n",
      "Epoch 00009: val_loss improved from 1.42611 to 1.27347, saving model to model_init_2022-11-2311_14_32.373018/model-00009-1.50607-0.52174-1.27347-0.45000.h5\n",
      "23/23 [==============================] - 28s 1s/step - loss: 1.5061 - categorical_accuracy: 0.5217 - val_loss: 1.2735 - val_categorical_accuracy: 0.4500 - lr: 0.0010\n",
      "Epoch 10/10\n",
      "23/23 [==============================] - ETA: 0s - loss: 1.1675 - categorical_accuracy: 0.5652\n",
      "Epoch 00010: val_loss did not improve from 1.27347\n",
      "23/23 [==============================] - 25s 1s/step - loss: 1.1675 - categorical_accuracy: 0.5652 - val_loss: 1.2868 - val_categorical_accuracy: 0.4750 - lr: 0.0010\n"
     ]
    }
   ],
   "source": [
    "history1 = model.fit_generator(train_generator, steps_per_epoch=steps_per_epoch, epochs=num_epochs, verbose=1, \n",
    "                    callbacks=callbacks_list, validation_data=val_generator, \n",
    "                    validation_steps=validation_steps, class_weight=None, workers=1, initial_epoch=0)"
   ]
  },
  {
   "cell_type": "code",
   "execution_count": 17,
   "metadata": {},
   "outputs": [
    {
     "data": {
      "image/png": "[encoded data removed]",
      "text/plain": [
       "<Figure size 1080x288 with 2 Axes>"
      ]
     },
     "metadata": {
      "needs_background": "light"
     },
     "output_type": "display_data"
    }
   ],
   "source": [
    "plot(history1)"
   ]
  },
  {
   "cell_type": "markdown",
   "metadata": {},
   "source": [
    "#### The Accuracy of the model is bad on both Train and Test; It is underfitting;\n",
    "#### We would need to modify model to get better results"
   ]
  },
  {
   "cell_type": "markdown",
   "metadata": {},
   "source": [
    "## Model 2:\n",
    "### Changing the parameters: Add one more Convolution Layer in model"
   ]
  },
  {
   "cell_type": "code",
   "execution_count": 18,
   "metadata": {},
   "outputs": [],
   "source": [
    "model2 = Sequential()\n",
    "\n",
    "model2.add(Conv3D(8, kernel_size = (3,3,3),padding='same', input_shape=(30,120,120,3)))\n",
    "model2.add(BatchNormalization())\n",
    "model2.add(Activation(\"relu\"))\n",
    "model2.add(MaxPooling3D(pool_size=(1, 2, 2)))\n",
    "\n",
    "model2.add(Conv3D(32, kernel_size = (3,3,3),padding='same'))\n",
    "model2.add(BatchNormalization())\n",
    "model2.add(Activation(\"relu\"))\n",
    "model2.add(MaxPooling3D(pool_size=(2, 2, 2)))\n",
    "\n",
    "model2.add(Conv3D(64, kernel_size = (3,3,3),padding='same'))\n",
    "model2.add(BatchNormalization())\n",
    "model2.add(Activation(\"relu\"))\n",
    "model2.add(MaxPooling3D(pool_size=(2, 2, 2)))\n",
    "\n",
    "model2.add(Conv3D(128, kernel_size = (3,3,3),padding='same'))\n",
    "model2.add(BatchNormalization())\n",
    "model2.add(Activation(\"relu\"))\n",
    "model2.add(MaxPooling3D(pool_size=(2, 2, 2)))\n",
    "model2.add(Dropout(0.2))\n",
    "\n",
    "model2.add(Flatten())\n",
    "\n",
    "model2.add(Dense(256, activation='relu'))\n",
    "model2.add(Dropout(0.2))\n",
    "\n",
    "# 5 gestures 5 classes\n",
    "model2.add(Dense(5, activation = 'softmax'))"
   ]
  },
  {
   "cell_type": "code",
   "execution_count": 19,
   "metadata": {},
   "outputs": [],
   "source": [
    "train_generator = generator(train_path, train_doc, batch_size)\n",
    "val_generator = generator(val_path, val_doc, batch_size)"
   ]
  },
  {
   "cell_type": "code",
   "execution_count": 20,
   "metadata": {},
   "outputs": [
    {
     "name": "stdout",
     "output_type": "stream",
     "text": [
      "WARNING:tensorflow:`period` argument is deprecated. Please use `save_freq` to specify the frequency in number of batches seen.\n"
     ]
    }
   ],
   "source": [
    "model_name = 'model_init' + '_' + str(curr_dt_time).replace(' ','').replace(':','_') + '/'\n",
    "    \n",
    "if not os.path.exists(model_name):\n",
    "    os.mkdir(model_name)\n",
    "        \n",
    "filepath = model_name + 'model-{epoch:05d}-{loss:.5f}-{categorical_accuracy:.5f}-{val_loss:.5f}-{val_categorical_accuracy:.5f}.h5'\n",
    "\n",
    "checkpoint = ModelCheckpoint(filepath, monitor='val_loss', verbose=1, save_best_only=True, save_weights_only=False, mode='auto', period=1)\n",
    "\n",
    "LR = ReduceLROnPlateau(monitor='val_loss', factor=0.5, patience=2, cooldown=1, verbose=1)# write the REducelronplateau code here\n",
    "callbacks_list = [checkpoint, LR]"
   ]
  },
  {
   "cell_type": "code",
   "execution_count": 21,
   "metadata": {},
   "outputs": [],
   "source": [
    "if (num_train_sequences%batch_size) == 0:\n",
    "    steps_per_epoch = int(num_train_sequences/batch_size)\n",
    "else:\n",
    "    steps_per_epoch = (num_train_sequences//batch_size) + 1\n",
    "\n",
    "if (num_val_sequences%batch_size) == 0:\n",
    "    validation_steps = int(num_val_sequences/batch_size)\n",
    "else:\n",
    "    validation_steps = (num_val_sequences//batch_size) + 1"
   ]
  },
  {
   "cell_type": "code",
   "execution_count": 22,
   "metadata": {},
   "outputs": [
    {
     "name": "stdout",
     "output_type": "stream",
     "text": [
      "Model: \"sequential_1\"\n",
      "_________________________________________________________________\n",
      " Layer (type)                Output Shape              Param #   \n",
      "=================================================================\n",
      " conv3d_3 (Conv3D)           (None, 30, 120, 120, 8)   656       \n",
      "                                                                 \n",
      " batch_normalization_3 (Batc  (None, 30, 120, 120, 8)  32        \n",
      " hNormalization)                                                 \n",
      "                                                                 \n",
      " activation_3 (Activation)   (None, 30, 120, 120, 8)   0         \n",
      "                                                                 \n",
      " max_pooling3d_3 (MaxPooling  (None, 30, 60, 60, 8)    0         \n",
      " 3D)                                                             \n",
      "                                                                 \n",
      " conv3d_4 (Conv3D)           (None, 30, 60, 60, 32)    6944      \n",
      "                                                                 \n",
      " batch_normalization_4 (Batc  (None, 30, 60, 60, 32)   128       \n",
      " hNormalization)                                                 \n",
      "                                                                 \n",
      " activation_4 (Activation)   (None, 30, 60, 60, 32)    0         \n",
      "                                                                 \n",
      " max_pooling3d_4 (MaxPooling  (None, 15, 30, 30, 32)   0         \n",
      " 3D)                                                             \n",
      "                                                                 \n",
      " conv3d_5 (Conv3D)           (None, 15, 30, 30, 64)    55360     \n",
      "                                                                 \n",
      " batch_normalization_5 (Batc  (None, 15, 30, 30, 64)   256       \n",
      " hNormalization)                                                 \n",
      "                                                                 \n",
      " activation_5 (Activation)   (None, 15, 30, 30, 64)    0         \n",
      "                                                                 \n",
      " max_pooling3d_5 (MaxPooling  (None, 7, 15, 15, 64)    0         \n",
      " 3D)                                                             \n",
      "                                                                 \n",
      " conv3d_6 (Conv3D)           (None, 7, 15, 15, 128)    221312    \n",
      "                                                                 \n",
      " batch_normalization_6 (Batc  (None, 7, 15, 15, 128)   512       \n",
      " hNormalization)                                                 \n",
      "                                                                 \n",
      " activation_6 (Activation)   (None, 7, 15, 15, 128)    0         \n",
      "                                                                 \n",
      " max_pooling3d_6 (MaxPooling  (None, 3, 7, 7, 128)     0         \n",
      " 3D)                                                             \n",
      "                                                                 \n",
      " dropout_3 (Dropout)         (None, 3, 7, 7, 128)      0         \n",
      "                                                                 \n",
      " flatten_1 (Flatten)         (None, 18816)             0         \n",
      "                                                                 \n",
      " dense_3 (Dense)             (None, 256)               4817152   \n",
      "                                                                 \n",
      " dropout_4 (Dropout)         (None, 256)               0         \n",
      "                                                                 \n",
      " dense_4 (Dense)             (None, 5)                 1285      \n",
      "                                                                 \n",
      "=================================================================\n",
      "Total params: 5,103,637\n",
      "Trainable params: 5,103,173\n",
      "Non-trainable params: 464\n",
      "_________________________________________________________________\n",
      "None\n"
     ]
    }
   ],
   "source": [
    "optimiser = optimizers.Adam(lr = 0.001) #write your optimizer\n",
    "model2.compile(optimizer=optimiser, loss='categorical_crossentropy', metrics=['categorical_accuracy'])\n",
    "print (model2.summary())"
   ]
  },
  {
   "cell_type": "code",
   "execution_count": 23,
   "metadata": {},
   "outputs": [
    {
     "name": "stdout",
     "output_type": "stream",
     "text": [
      "Source path =  /home/datasets/Project_data/train ; batch size = 30\n",
      "Epoch 1/10\n",
      "21/23 [==========================>...] - ETA: 12s - loss: 11.6773 - categorical_accuracy: 0.3460Batch:  23 Index: 30\n",
      "23/23 [==============================] - ETA: 0s - loss: 11.1969 - categorical_accuracy: 0.3499Source path =  /home/datasets/Project_data/val ; batch size = 30\n",
      "Batch:  4 Index: 30\n",
      "\n",
      "Epoch 00001: val_loss improved from inf to 1.58761, saving model to model_init_2022-11-2311_14_32.373018/model-00001-11.19690-0.34992-1.58761-0.39000.h5\n",
      "23/23 [==============================] - 166s 7s/step - loss: 11.1969 - categorical_accuracy: 0.3499 - val_loss: 1.5876 - val_categorical_accuracy: 0.3900 - lr: 0.0010\n",
      "Epoch 2/10\n",
      "23/23 [==============================] - ETA: 0s - loss: 3.4333 - categorical_accuracy: 0.3478\n",
      "Epoch 00002: val_loss did not improve from 1.58761\n",
      "23/23 [==============================] - 29s 1s/step - loss: 3.4333 - categorical_accuracy: 0.3478 - val_loss: 1.7018 - val_categorical_accuracy: 0.2250 - lr: 0.0010\n",
      "Epoch 3/10\n",
      "23/23 [==============================] - ETA: 0s - loss: 2.2362 - categorical_accuracy: 0.2464\n",
      "Epoch 00003: val_loss did not improve from 1.58761\n",
      "\n",
      "Epoch 00003: ReduceLROnPlateau reducing learning rate to 0.0005000000237487257.\n",
      "23/23 [==============================] - 26s 1s/step - loss: 2.2362 - categorical_accuracy: 0.2464 - val_loss: 1.6029 - val_categorical_accuracy: 0.4250 - lr: 0.0010\n",
      "Epoch 4/10\n",
      "23/23 [==============================] - ETA: 0s - loss: 1.2241 - categorical_accuracy: 0.3913\n",
      "Epoch 00004: val_loss did not improve from 1.58761\n",
      "23/23 [==============================] - 26s 1s/step - loss: 1.2241 - categorical_accuracy: 0.3913 - val_loss: 2.0692 - val_categorical_accuracy: 0.1750 - lr: 5.0000e-04\n",
      "Epoch 5/10\n",
      "23/23 [==============================] - ETA: 0s - loss: 1.1490 - categorical_accuracy: 0.5072\n",
      "Epoch 00005: val_loss did not improve from 1.58761\n",
      "\n",
      "Epoch 00005: ReduceLROnPlateau reducing learning rate to 0.0002500000118743628.\n",
      "23/23 [==============================] - 30s 1s/step - loss: 1.1490 - categorical_accuracy: 0.5072 - val_loss: 1.9562 - val_categorical_accuracy: 0.2750 - lr: 5.0000e-04\n",
      "Epoch 6/10\n",
      "23/23 [==============================] - ETA: 0s - loss: 1.2014 - categorical_accuracy: 0.4928\n",
      "Epoch 00006: val_loss did not improve from 1.58761\n",
      "23/23 [==============================] - 27s 1s/step - loss: 1.2014 - categorical_accuracy: 0.4928 - val_loss: 2.0101 - val_categorical_accuracy: 0.3250 - lr: 2.5000e-04\n",
      "Epoch 7/10\n",
      "23/23 [==============================] - ETA: 0s - loss: 1.1606 - categorical_accuracy: 0.5942\n",
      "Epoch 00007: val_loss did not improve from 1.58761\n",
      "\n",
      "Epoch 00007: ReduceLROnPlateau reducing learning rate to 0.0001250000059371814.\n",
      "23/23 [==============================] - 27s 1s/step - loss: 1.1606 - categorical_accuracy: 0.5942 - val_loss: 2.0261 - val_categorical_accuracy: 0.3250 - lr: 2.5000e-04\n",
      "Epoch 8/10\n",
      "23/23 [==============================] - ETA: 0s - loss: 1.0486 - categorical_accuracy: 0.5362\n",
      "Epoch 00008: val_loss did not improve from 1.58761\n",
      "23/23 [==============================] - 29s 1s/step - loss: 1.0486 - categorical_accuracy: 0.5362 - val_loss: 1.9170 - val_categorical_accuracy: 0.2000 - lr: 1.2500e-04\n",
      "Epoch 9/10\n",
      "23/23 [==============================] - ETA: 0s - loss: 0.9473 - categorical_accuracy: 0.5942\n",
      "Epoch 00009: val_loss did not improve from 1.58761\n",
      "\n",
      "Epoch 00009: ReduceLROnPlateau reducing learning rate to 6.25000029685907e-05.\n",
      "23/23 [==============================] - 29s 1s/step - loss: 0.9473 - categorical_accuracy: 0.5942 - val_loss: 2.2518 - val_categorical_accuracy: 0.2750 - lr: 1.2500e-04\n",
      "Epoch 10/10\n",
      "23/23 [==============================] - ETA: 0s - loss: 1.1953 - categorical_accuracy: 0.4928\n",
      "Epoch 00010: val_loss did not improve from 1.58761\n",
      "23/23 [==============================] - 25s 1s/step - loss: 1.1953 - categorical_accuracy: 0.4928 - val_loss: 1.8841 - val_categorical_accuracy: 0.3250 - lr: 6.2500e-05\n"
     ]
    }
   ],
   "source": [
    "history2 = model2.fit_generator(train_generator, steps_per_epoch=steps_per_epoch, epochs=num_epochs, verbose=1, \n",
    "                    callbacks=callbacks_list, validation_data=val_generator, \n",
    "                    validation_steps=validation_steps, class_weight=None, workers=1, initial_epoch=0)"
   ]
  },
  {
   "cell_type": "code",
   "execution_count": 24,
   "metadata": {},
   "outputs": [
    {
     "data": {
      "image/png": "[encoded data removed]",
      "text/plain": [
       "<Figure size 1080x288 with 2 Axes>"
      ]
     },
     "metadata": {
      "needs_background": "light"
     },
     "output_type": "display_data"
    }
   ],
   "source": [
    "plot(history2)"
   ]
  },
  {
   "cell_type": "markdown",
   "metadata": {},
   "source": [
    "#### The Accuracy of the model is still bad on both Train and Test; It is still underfitting;\n",
    "#### We would need to modify model to get better results"
   ]
  },
  {
   "cell_type": "markdown",
   "metadata": {},
   "source": [
    "## Model 3\n",
    "### Changing Model Parameters further by reducing number of channels and reducing number of batches\n"
   ]
  },
  {
   "cell_type": "code",
   "execution_count": 26,
   "metadata": {},
   "outputs": [],
   "source": [
    "model3 = Sequential()\n",
    "\n",
    "model3.add(Conv3D(8, kernel_size = (3,3,3),padding='same', input_shape=(30,120,120,3)))\n",
    "model3.add(BatchNormalization())\n",
    "model3.add(Activation(\"relu\"))\n",
    "model3.add(MaxPooling3D(pool_size=(1, 2, 2)))\n",
    "\n",
    "model3.add(Conv3D(16, kernel_size = (3,3,3),padding='same'))\n",
    "model3.add(BatchNormalization())\n",
    "model3.add(Activation(\"relu\"))\n",
    "model3.add(MaxPooling3D(pool_size=(2, 2, 2)))\n",
    "\n",
    "model3.add(Conv3D(32, kernel_size = (3,3,3),padding='same'))\n",
    "model3.add(BatchNormalization())\n",
    "model3.add(Activation(\"relu\"))\n",
    "model3.add(MaxPooling3D(pool_size=(2, 2, 2)))\n",
    "\n",
    "model3.add(Conv3D(64, kernel_size = (3,3,3),padding='same'))\n",
    "model3.add(BatchNormalization())\n",
    "model3.add(Activation(\"relu\"))\n",
    "model3.add(MaxPooling3D(pool_size=(2, 2, 2)))\n",
    "model3.add(Dropout(0.2))\n",
    "\n",
    "model3.add(Flatten())\n",
    "\n",
    "model3.add(Dense(512, activation='relu'))\n",
    "model3.add(Dropout(0.2))\n",
    "\n",
    "# 5 gestures 5 classes\n",
    "model3.add(Dense(5, activation = 'softmax'))"
   ]
  },
  {
   "cell_type": "code",
   "execution_count": 27,
   "metadata": {},
   "outputs": [],
   "source": [
    "batch_size = 10\n",
    "train_generator = generator(train_path, train_doc, batch_size)\n",
    "val_generator = generator(val_path, val_doc, batch_size)"
   ]
  },
  {
   "cell_type": "code",
   "execution_count": 28,
   "metadata": {},
   "outputs": [
    {
     "name": "stdout",
     "output_type": "stream",
     "text": [
      "WARNING:tensorflow:`period` argument is deprecated. Please use `save_freq` to specify the frequency in number of batches seen.\n"
     ]
    }
   ],
   "source": [
    "model_name = 'model_init' + '_' + str(curr_dt_time).replace(' ','').replace(':','_') + '/'\n",
    "    \n",
    "if not os.path.exists(model_name):\n",
    "    os.mkdir(model_name)\n",
    "        \n",
    "filepath = model_name + 'model-{epoch:05d}-{loss:.5f}-{categorical_accuracy:.5f}-{val_loss:.5f}-{val_categorical_accuracy:.5f}.h5'\n",
    "\n",
    "checkpoint = ModelCheckpoint(filepath, monitor='val_loss', verbose=1, save_best_only=True, save_weights_only=False, mode='auto', period=1)\n",
    "\n",
    "LR = ReduceLROnPlateau(monitor='val_loss', factor=0.5, patience=2, cooldown=1, verbose=1)# write the REducelronplateau code here\n",
    "callbacks_list = [checkpoint, LR]"
   ]
  },
  {
   "cell_type": "code",
   "execution_count": 29,
   "metadata": {},
   "outputs": [],
   "source": [
    "if (num_train_sequences%batch_size) == 0:\n",
    "    steps_per_epoch = int(num_train_sequences/batch_size)\n",
    "else:\n",
    "    steps_per_epoch = (num_train_sequences//batch_size) + 1\n",
    "\n",
    "if (num_val_sequences%batch_size) == 0:\n",
    "    validation_steps = int(num_val_sequences/batch_size)\n",
    "else:\n",
    "    validation_steps = (num_val_sequences//batch_size) + 1"
   ]
  },
  {
   "cell_type": "code",
   "execution_count": 30,
   "metadata": {},
   "outputs": [
    {
     "name": "stdout",
     "output_type": "stream",
     "text": [
      "Model: \"sequential_2\"\n",
      "_________________________________________________________________\n",
      " Layer (type)                Output Shape              Param #   \n",
      "=================================================================\n",
      " conv3d_7 (Conv3D)           (None, 30, 120, 120, 8)   656       \n",
      "                                                                 \n",
      " batch_normalization_7 (Batc  (None, 30, 120, 120, 8)  32        \n",
      " hNormalization)                                                 \n",
      "                                                                 \n",
      " activation_7 (Activation)   (None, 30, 120, 120, 8)   0         \n",
      "                                                                 \n",
      " max_pooling3d_7 (MaxPooling  (None, 30, 60, 60, 8)    0         \n",
      " 3D)                                                             \n",
      "                                                                 \n",
      " conv3d_8 (Conv3D)           (None, 30, 60, 60, 16)    3472      \n",
      "                                                                 \n",
      " batch_normalization_8 (Batc  (None, 30, 60, 60, 16)   64        \n",
      " hNormalization)                                                 \n",
      "                                                                 \n",
      " activation_8 (Activation)   (None, 30, 60, 60, 16)    0         \n",
      "                                                                 \n",
      " max_pooling3d_8 (MaxPooling  (None, 15, 30, 30, 16)   0         \n",
      " 3D)                                                             \n",
      "                                                                 \n",
      " conv3d_9 (Conv3D)           (None, 15, 30, 30, 32)    13856     \n",
      "                                                                 \n",
      " batch_normalization_9 (Batc  (None, 15, 30, 30, 32)   128       \n",
      " hNormalization)                                                 \n",
      "                                                                 \n",
      " activation_9 (Activation)   (None, 15, 30, 30, 32)    0         \n",
      "                                                                 \n",
      " max_pooling3d_9 (MaxPooling  (None, 7, 15, 15, 32)    0         \n",
      " 3D)                                                             \n",
      "                                                                 \n",
      " conv3d_10 (Conv3D)          (None, 7, 15, 15, 64)     55360     \n",
      "                                                                 \n",
      " batch_normalization_10 (Bat  (None, 7, 15, 15, 64)    256       \n",
      " chNormalization)                                                \n",
      "                                                                 \n",
      " activation_10 (Activation)  (None, 7, 15, 15, 64)     0         \n",
      "                                                                 \n",
      " max_pooling3d_10 (MaxPoolin  (None, 3, 7, 7, 64)      0         \n",
      " g3D)                                                            \n",
      "                                                                 \n",
      " dropout_5 (Dropout)         (None, 3, 7, 7, 64)       0         \n",
      "                                                                 \n",
      " flatten_2 (Flatten)         (None, 9408)              0         \n",
      "                                                                 \n",
      " dense_5 (Dense)             (None, 512)               4817408   \n",
      "                                                                 \n",
      " dropout_6 (Dropout)         (None, 512)               0         \n",
      "                                                                 \n",
      " dense_6 (Dense)             (None, 5)                 2565      \n",
      "                                                                 \n",
      "=================================================================\n",
      "Total params: 4,893,797\n",
      "Trainable params: 4,893,557\n",
      "Non-trainable params: 240\n",
      "_________________________________________________________________\n",
      "None\n"
     ]
    }
   ],
   "source": [
    "optimiser = optimizers.Adam()#write your optimizer\n",
    "model3.compile(optimizer=optimiser, loss='categorical_crossentropy', metrics=['categorical_accuracy'])\n",
    "print (model3.summary())"
   ]
  },
  {
   "cell_type": "code",
   "execution_count": 31,
   "metadata": {},
   "outputs": [
    {
     "name": "stdout",
     "output_type": "stream",
     "text": [
      "Source path =  /home/datasets/Project_data/train ; batch size = 10\n",
      "Epoch 1/10\n",
      "65/67 [============================>.] - ETA: 4s - loss: 4.8533 - categorical_accuracy: 0.3385Batch:  67 Index: 10\n",
      "67/67 [==============================] - ETA: 0s - loss: 4.7944 - categorical_accuracy: 0.3363Source path =  /home/datasets/Project_data/val ; batch size = 10\n",
      "\n",
      "Epoch 00001: val_loss improved from inf to 1.52267, saving model to model_init_2022-11-2311_14_32.373018/model-00001-4.79437-0.33635-1.52267-0.39000.h5\n",
      "67/67 [==============================] - 168s 3s/step - loss: 4.7944 - categorical_accuracy: 0.3363 - val_loss: 1.5227 - val_categorical_accuracy: 0.3900 - lr: 0.0010\n",
      "Epoch 2/10\n",
      "67/67 [==============================] - ETA: 0s - loss: 1.3049 - categorical_accuracy: 0.5075\n",
      "Epoch 00002: val_loss improved from 1.52267 to 1.43116, saving model to model_init_2022-11-2311_14_32.373018/model-00002-1.30492-0.50746-1.43116-0.44000.h5\n",
      "67/67 [==============================] - 69s 1s/step - loss: 1.3049 - categorical_accuracy: 0.5075 - val_loss: 1.4312 - val_categorical_accuracy: 0.4400 - lr: 0.0010\n",
      "Epoch 3/10\n",
      "67/67 [==============================] - ETA: 0s - loss: 1.1711 - categorical_accuracy: 0.5522\n",
      "Epoch 00003: val_loss did not improve from 1.43116\n",
      "67/67 [==============================] - 65s 988ms/step - loss: 1.1711 - categorical_accuracy: 0.5522 - val_loss: 1.5878 - val_categorical_accuracy: 0.3300 - lr: 0.0010\n",
      "Epoch 4/10\n",
      "67/67 [==============================] - ETA: 0s - loss: 0.9858 - categorical_accuracy: 0.6020\n",
      "Epoch 00004: val_loss improved from 1.43116 to 1.15094, saving model to model_init_2022-11-2311_14_32.373018/model-00004-0.98581-0.60199-1.15094-0.57000.h5\n",
      "67/67 [==============================] - 71s 1s/step - loss: 0.9858 - categorical_accuracy: 0.6020 - val_loss: 1.1509 - val_categorical_accuracy: 0.5700 - lr: 0.0010\n",
      "Epoch 5/10\n",
      "67/67 [==============================] - ETA: 0s - loss: 1.0643 - categorical_accuracy: 0.5970\n",
      "Epoch 00005: val_loss improved from 1.15094 to 0.92897, saving model to model_init_2022-11-2311_14_32.373018/model-00005-1.06434-0.59701-0.92897-0.67000.h5\n",
      "67/67 [==============================] - 67s 1s/step - loss: 1.0643 - categorical_accuracy: 0.5970 - val_loss: 0.9290 - val_categorical_accuracy: 0.6700 - lr: 0.0010\n",
      "Epoch 6/10\n",
      "67/67 [==============================] - ETA: 0s - loss: 0.6646 - categorical_accuracy: 0.7065\n",
      "Epoch 00006: val_loss improved from 0.92897 to 0.84052, saving model to model_init_2022-11-2311_14_32.373018/model-00006-0.66460-0.70647-0.84052-0.66000.h5\n",
      "67/67 [==============================] - 69s 1s/step - loss: 0.6646 - categorical_accuracy: 0.7065 - val_loss: 0.8405 - val_categorical_accuracy: 0.6600 - lr: 0.0010\n",
      "Epoch 7/10\n",
      "67/67 [==============================] - ETA: 0s - loss: 0.6011 - categorical_accuracy: 0.7811\n",
      "Epoch 00007: val_loss did not improve from 0.84052\n",
      "67/67 [==============================] - 81s 1s/step - loss: 0.6011 - categorical_accuracy: 0.7811 - val_loss: 1.0912 - val_categorical_accuracy: 0.6400 - lr: 0.0010\n",
      "Epoch 8/10\n",
      "67/67 [==============================] - ETA: 0s - loss: 0.7093 - categorical_accuracy: 0.7313\n",
      "Epoch 00008: val_loss did not improve from 0.84052\n",
      "\n",
      "Epoch 00008: ReduceLROnPlateau reducing learning rate to 0.0005000000237487257.\n",
      "67/67 [==============================] - 66s 998ms/step - loss: 0.7093 - categorical_accuracy: 0.7313 - val_loss: 0.9102 - val_categorical_accuracy: 0.6600 - lr: 0.0010\n",
      "Epoch 9/10\n",
      "67/67 [==============================] - ETA: 0s - loss: 0.5597 - categorical_accuracy: 0.7711\n",
      "Epoch 00009: val_loss improved from 0.84052 to 0.72164, saving model to model_init_2022-11-2311_14_32.373018/model-00009-0.55968-0.77114-0.72164-0.77000.h5\n",
      "67/67 [==============================] - 69s 1s/step - loss: 0.5597 - categorical_accuracy: 0.7711 - val_loss: 0.7216 - val_categorical_accuracy: 0.7700 - lr: 5.0000e-04\n",
      "Epoch 10/10\n",
      "67/67 [==============================] - ETA: 0s - loss: 0.4798 - categorical_accuracy: 0.8159\n",
      "Epoch 00010: val_loss improved from 0.72164 to 0.42234, saving model to model_init_2022-11-2311_14_32.373018/model-00010-0.47985-0.81592-0.42234-0.87000.h5\n",
      "67/67 [==============================] - 68s 1s/step - loss: 0.4798 - categorical_accuracy: 0.8159 - val_loss: 0.4223 - val_categorical_accuracy: 0.8700 - lr: 5.0000e-04\n"
     ]
    }
   ],
   "source": [
    "history3 = model3.fit_generator(train_generator, steps_per_epoch=steps_per_epoch, epochs=num_epochs, verbose=1, \n",
    "                    callbacks=callbacks_list, validation_data=val_generator, \n",
    "                    validation_steps=validation_steps, class_weight=None, workers=1, initial_epoch=0)"
   ]
  },
  {
   "cell_type": "code",
   "execution_count": 32,
   "metadata": {},
   "outputs": [
    {
     "data": {
      "image/png": "[encoded data removed]",
      "text/plain": [
       "<Figure size 1080x288 with 2 Axes>"
      ]
     },
     "metadata": {
      "needs_background": "light"
     },
     "output_type": "display_data"
    }
   ],
   "source": [
    "plot(history3)"
   ]
  },
  {
   "cell_type": "markdown",
   "metadata": {},
   "source": [
    "#### The Accracy of the model is good. But Validation accuracy is more than Train ; It is overfitting.\n",
    "#### Need to try different Model now"
   ]
  },
  {
   "cell_type": "markdown",
   "metadata": {},
   "source": [
    "## Model 4:\n",
    "### Accuracies are improving, Model looks more stable towards the end of 10 epochs\n",
    "#### We can try to increase batch size or number of epochs"
   ]
  },
  {
   "cell_type": "code",
   "execution_count": 33,
   "metadata": {},
   "outputs": [],
   "source": [
    "model4 = Sequential()\n",
    "\n",
    "model4.add(Conv3D(8, kernel_size = (3,3,3),padding='same', input_shape=(30,120,120,3)))\n",
    "model4.add(BatchNormalization())\n",
    "model4.add(Activation(\"relu\"))\n",
    "model4.add(MaxPooling3D(pool_size=(1, 2, 2)))\n",
    "\n",
    "model4.add(Conv3D(16, kernel_size = (3,3,3),padding='same'))\n",
    "model4.add(BatchNormalization())\n",
    "model4.add(Activation(\"relu\"))\n",
    "model4.add(MaxPooling3D(pool_size=(2, 2, 2)))\n",
    "\n",
    "model4.add(Conv3D(32, kernel_size = (3,3,3),padding='same'))\n",
    "model4.add(BatchNormalization())\n",
    "model4.add(Activation(\"relu\"))\n",
    "model4.add(MaxPooling3D(pool_size=(2, 2, 2)))\n",
    "\n",
    "model4.add(Conv3D(64, kernel_size = (3,3,3),padding='same'))\n",
    "model4.add(BatchNormalization())\n",
    "model4.add(Activation(\"relu\"))\n",
    "model4.add(MaxPooling3D(pool_size=(2, 2, 2)))\n",
    "model4.add(Dropout(0.2))\n",
    "\n",
    "model4.add(Flatten())\n",
    "\n",
    "model4.add(Dense(512, activation='relu'))\n",
    "model4.add(Dropout(0.25))\n",
    "\n",
    "# 5 gestures 5 classes\n",
    "model4.add(Dense(5, activation = 'softmax'))"
   ]
  },
  {
   "cell_type": "code",
   "execution_count": 34,
   "metadata": {},
   "outputs": [
    {
     "name": "stdout",
     "output_type": "stream",
     "text": [
      "Model: \"sequential_3\"\n",
      "_________________________________________________________________\n",
      " Layer (type)                Output Shape              Param #   \n",
      "=================================================================\n",
      " conv3d_11 (Conv3D)          (None, 30, 120, 120, 8)   656       \n",
      "                                                                 \n",
      " batch_normalization_11 (Bat  (None, 30, 120, 120, 8)  32        \n",
      " chNormalization)                                                \n",
      "                                                                 \n",
      " activation_11 (Activation)  (None, 30, 120, 120, 8)   0         \n",
      "                                                                 \n",
      " max_pooling3d_11 (MaxPoolin  (None, 30, 60, 60, 8)    0         \n",
      " g3D)                                                            \n",
      "                                                                 \n",
      " conv3d_12 (Conv3D)          (None, 30, 60, 60, 16)    3472      \n",
      "                                                                 \n",
      " batch_normalization_12 (Bat  (None, 30, 60, 60, 16)   64        \n",
      " chNormalization)                                                \n",
      "                                                                 \n",
      " activation_12 (Activation)  (None, 30, 60, 60, 16)    0         \n",
      "                                                                 \n",
      " max_pooling3d_12 (MaxPoolin  (None, 15, 30, 30, 16)   0         \n",
      " g3D)                                                            \n",
      "                                                                 \n",
      " conv3d_13 (Conv3D)          (None, 15, 30, 30, 32)    13856     \n",
      "                                                                 \n",
      " batch_normalization_13 (Bat  (None, 15, 30, 30, 32)   128       \n",
      " chNormalization)                                                \n",
      "                                                                 \n",
      " activation_13 (Activation)  (None, 15, 30, 30, 32)    0         \n",
      "                                                                 \n",
      " max_pooling3d_13 (MaxPoolin  (None, 7, 15, 15, 32)    0         \n",
      " g3D)                                                            \n",
      "                                                                 \n",
      " conv3d_14 (Conv3D)          (None, 7, 15, 15, 64)     55360     \n",
      "                                                                 \n",
      " batch_normalization_14 (Bat  (None, 7, 15, 15, 64)    256       \n",
      " chNormalization)                                                \n",
      "                                                                 \n",
      " activation_14 (Activation)  (None, 7, 15, 15, 64)     0         \n",
      "                                                                 \n",
      " max_pooling3d_14 (MaxPoolin  (None, 3, 7, 7, 64)      0         \n",
      " g3D)                                                            \n",
      "                                                                 \n",
      " dropout_7 (Dropout)         (None, 3, 7, 7, 64)       0         \n",
      "                                                                 \n",
      " flatten_3 (Flatten)         (None, 9408)              0         \n",
      "                                                                 \n",
      " dense_7 (Dense)             (None, 512)               4817408   \n",
      "                                                                 \n",
      " dropout_8 (Dropout)         (None, 512)               0         \n",
      "                                                                 \n",
      " dense_8 (Dense)             (None, 5)                 2565      \n",
      "                                                                 \n",
      "=================================================================\n",
      "Total params: 4,893,797\n",
      "Trainable params: 4,893,557\n",
      "Non-trainable params: 240\n",
      "_________________________________________________________________\n",
      "None\n"
     ]
    }
   ],
   "source": [
    "optimiser = optimizers.Adam()#write your optimizer\n",
    "model4.compile(optimizer=optimiser, loss='categorical_crossentropy', metrics=['categorical_accuracy'])\n",
    "print (model4.summary())"
   ]
  },
  {
   "cell_type": "code",
   "execution_count": 35,
   "metadata": {},
   "outputs": [],
   "source": [
    "batch_size = 10\n",
    "train_generator = generator(train_path, train_doc, batch_size)\n",
    "val_generator = generator(val_path, val_doc, batch_size)"
   ]
  },
  {
   "cell_type": "code",
   "execution_count": 36,
   "metadata": {},
   "outputs": [
    {
     "name": "stdout",
     "output_type": "stream",
     "text": [
      "WARNING:tensorflow:`period` argument is deprecated. Please use `save_freq` to specify the frequency in number of batches seen.\n"
     ]
    }
   ],
   "source": [
    "model_name = 'model_init' + '_' + str(curr_dt_time).replace(' ','').replace(':','_') + '/'\n",
    "    \n",
    "if not os.path.exists(model_name):\n",
    "    os.mkdir(model_name)\n",
    "        \n",
    "filepath = model_name + 'model-{epoch:05d}-{loss:.5f}-{categorical_accuracy:.5f}-{val_loss:.5f}-{val_categorical_accuracy:.5f}.h5'\n",
    "\n",
    "checkpoint = ModelCheckpoint(filepath, monitor='val_loss', verbose=1, save_best_only=True, save_weights_only=False, mode='auto', period=1)\n",
    "\n",
    "LR = ReduceLROnPlateau(monitor='val_loss', factor=0.5, patience=2, cooldown=1, verbose=1)# write the REducelronplateau code here\n",
    "callbacks_list = [checkpoint, LR]"
   ]
  },
  {
   "cell_type": "code",
   "execution_count": 37,
   "metadata": {},
   "outputs": [],
   "source": [
    "if (num_train_sequences%batch_size) == 0:\n",
    "    steps_per_epoch = int(num_train_sequences/batch_size)\n",
    "else:\n",
    "    steps_per_epoch = (num_train_sequences//batch_size) + 1\n",
    "\n",
    "if (num_val_sequences%batch_size) == 0:\n",
    "    validation_steps = int(num_val_sequences/batch_size)\n",
    "else:\n",
    "    validation_steps = (num_val_sequences//batch_size) + 1"
   ]
  },
  {
   "cell_type": "code",
   "execution_count": 38,
   "metadata": {},
   "outputs": [
    {
     "name": "stdout",
     "output_type": "stream",
     "text": [
      "Source path =  /home/datasets/Project_data/train ; batch size = 10\n",
      "Epoch 1/20\n",
      "65/67 [============================>.] - ETA: 4s - loss: 4.6548 - categorical_accuracy: 0.3877Batch:  67 Index: 10\n",
      "67/67 [==============================] - ETA: 0s - loss: 4.5942 - categorical_accuracy: 0.3906Source path =  /home/datasets/Project_data/val ; batch size = 10\n",
      "\n",
      "Epoch 00001: val_loss improved from inf to 1.75451, saving model to model_init_2022-11-2311_14_32.373018/model-00001-4.59418-0.39065-1.75451-0.29000.h5\n",
      "67/67 [==============================] - 170s 3s/step - loss: 4.5942 - categorical_accuracy: 0.3906 - val_loss: 1.7545 - val_categorical_accuracy: 0.2900 - lr: 0.0010\n",
      "Epoch 2/20\n",
      "67/67 [==============================] - ETA: 0s - loss: 1.5509 - categorical_accuracy: 0.4627\n",
      "Epoch 00002: val_loss did not improve from 1.75451\n",
      "67/67 [==============================] - 66s 997ms/step - loss: 1.5509 - categorical_accuracy: 0.4627 - val_loss: 1.7562 - val_categorical_accuracy: 0.2200 - lr: 0.0010\n",
      "Epoch 3/20\n",
      "67/67 [==============================] - ETA: 0s - loss: 1.1684 - categorical_accuracy: 0.4975\n",
      "Epoch 00003: val_loss did not improve from 1.75451\n",
      "\n",
      "Epoch 00003: ReduceLROnPlateau reducing learning rate to 0.0005000000237487257.\n",
      "67/67 [==============================] - 73s 1s/step - loss: 1.1684 - categorical_accuracy: 0.4975 - val_loss: 1.8017 - val_categorical_accuracy: 0.2700 - lr: 0.0010\n",
      "Epoch 4/20\n",
      "67/67 [==============================] - ETA: 0s - loss: 0.9360 - categorical_accuracy: 0.5920\n",
      "Epoch 00004: val_loss improved from 1.75451 to 1.32973, saving model to model_init_2022-11-2311_14_32.373018/model-00004-0.93601-0.59204-1.32973-0.46000.h5\n",
      "67/67 [==============================] - 70s 1s/step - loss: 0.9360 - categorical_accuracy: 0.5920 - val_loss: 1.3297 - val_categorical_accuracy: 0.4600 - lr: 5.0000e-04\n",
      "Epoch 5/20\n",
      "67/67 [==============================] - ETA: 0s - loss: 0.6545 - categorical_accuracy: 0.7612\n",
      "Epoch 00005: val_loss improved from 1.32973 to 0.93435, saving model to model_init_2022-11-2311_14_32.373018/model-00005-0.65454-0.76119-0.93435-0.60000.h5\n",
      "67/67 [==============================] - 72s 1s/step - loss: 0.6545 - categorical_accuracy: 0.7612 - val_loss: 0.9344 - val_categorical_accuracy: 0.6000 - lr: 5.0000e-04\n",
      "Epoch 6/20\n",
      "67/67 [==============================] - ETA: 0s - loss: 0.6972 - categorical_accuracy: 0.7313\n",
      "Epoch 00006: val_loss did not improve from 0.93435\n",
      "67/67 [==============================] - 69s 1s/step - loss: 0.6972 - categorical_accuracy: 0.7313 - val_loss: 1.1420 - val_categorical_accuracy: 0.5600 - lr: 5.0000e-04\n",
      "Epoch 7/20\n",
      "67/67 [==============================] - ETA: 0s - loss: 0.6812 - categorical_accuracy: 0.7313\n",
      "Epoch 00007: val_loss improved from 0.93435 to 0.65710, saving model to model_init_2022-11-2311_14_32.373018/model-00007-0.68116-0.73134-0.65710-0.79000.h5\n",
      "67/67 [==============================] - 70s 1s/step - loss: 0.6812 - categorical_accuracy: 0.7313 - val_loss: 0.6571 - val_categorical_accuracy: 0.7900 - lr: 5.0000e-04\n",
      "Epoch 8/20\n",
      "67/67 [==============================] - ETA: 0s - loss: 0.5465 - categorical_accuracy: 0.7910\n",
      "Epoch 00008: val_loss improved from 0.65710 to 0.60272, saving model to model_init_2022-11-2311_14_32.373018/model-00008-0.54652-0.79104-0.60272-0.78000.h5\n",
      "67/67 [==============================] - 67s 1s/step - loss: 0.5465 - categorical_accuracy: 0.7910 - val_loss: 0.6027 - val_categorical_accuracy: 0.7800 - lr: 5.0000e-04\n",
      "Epoch 9/20\n",
      "67/67 [==============================] - ETA: 0s - loss: 0.4633 - categorical_accuracy: 0.8209\n",
      "Epoch 00009: val_loss improved from 0.60272 to 0.54139, saving model to model_init_2022-11-2311_14_32.373018/model-00009-0.46333-0.82090-0.54139-0.79000.h5\n",
      "67/67 [==============================] - 68s 1s/step - loss: 0.4633 - categorical_accuracy: 0.8209 - val_loss: 0.5414 - val_categorical_accuracy: 0.7900 - lr: 5.0000e-04\n",
      "Epoch 10/20\n",
      "67/67 [==============================] - ETA: 0s - loss: 0.5831 - categorical_accuracy: 0.7711\n",
      "Epoch 00010: val_loss improved from 0.54139 to 0.39494, saving model to model_init_2022-11-2311_14_32.373018/model-00010-0.58314-0.77114-0.39494-0.87000.h5\n",
      "67/67 [==============================] - 70s 1s/step - loss: 0.5831 - categorical_accuracy: 0.7711 - val_loss: 0.3949 - val_categorical_accuracy: 0.8700 - lr: 5.0000e-04\n",
      "Epoch 11/20\n",
      "67/67 [==============================] - ETA: 0s - loss: 0.5662 - categorical_accuracy: 0.8060\n",
      "Epoch 00011: val_loss did not improve from 0.39494\n",
      "67/67 [==============================] - 72s 1s/step - loss: 0.5662 - categorical_accuracy: 0.8060 - val_loss: 0.4126 - val_categorical_accuracy: 0.8900 - lr: 5.0000e-04\n",
      "Epoch 12/20\n",
      "67/67 [==============================] - ETA: 0s - loss: 0.3738 - categorical_accuracy: 0.8557\n",
      "Epoch 00012: val_loss improved from 0.39494 to 0.35976, saving model to model_init_2022-11-2311_14_32.373018/model-00012-0.37379-0.85572-0.35976-0.87000.h5\n",
      "67/67 [==============================] - 70s 1s/step - loss: 0.3738 - categorical_accuracy: 0.8557 - val_loss: 0.3598 - val_categorical_accuracy: 0.8700 - lr: 5.0000e-04\n",
      "Epoch 13/20\n",
      "67/67 [==============================] - ETA: 0s - loss: 0.3087 - categorical_accuracy: 0.8756\n",
      "Epoch 00013: val_loss did not improve from 0.35976\n",
      "67/67 [==============================] - 64s 963ms/step - loss: 0.3087 - categorical_accuracy: 0.8756 - val_loss: 0.5896 - val_categorical_accuracy: 0.8000 - lr: 5.0000e-04\n",
      "Epoch 14/20\n",
      "67/67 [==============================] - ETA: 0s - loss: 0.3993 - categorical_accuracy: 0.8408\n",
      "Epoch 00014: val_loss did not improve from 0.35976\n",
      "\n",
      "Epoch 00014: ReduceLROnPlateau reducing learning rate to 0.0002500000118743628.\n",
      "67/67 [==============================] - 67s 1s/step - loss: 0.3993 - categorical_accuracy: 0.8408 - val_loss: 0.4847 - val_categorical_accuracy: 0.8800 - lr: 5.0000e-04\n",
      "Epoch 15/20\n",
      "67/67 [==============================] - ETA: 0s - loss: 0.1687 - categorical_accuracy: 0.9453\n",
      "Epoch 00015: val_loss did not improve from 0.35976\n",
      "67/67 [==============================] - 68s 1s/step - loss: 0.1687 - categorical_accuracy: 0.9453 - val_loss: 0.3844 - val_categorical_accuracy: 0.8800 - lr: 2.5000e-04\n",
      "Epoch 16/20\n",
      "67/67 [==============================] - ETA: 0s - loss: 0.1920 - categorical_accuracy: 0.9154\n",
      "Epoch 00016: val_loss did not improve from 0.35976\n",
      "\n",
      "Epoch 00016: ReduceLROnPlateau reducing learning rate to 0.0001250000059371814.\n",
      "67/67 [==============================] - 70s 1s/step - loss: 0.1920 - categorical_accuracy: 0.9154 - val_loss: 0.4620 - val_categorical_accuracy: 0.9000 - lr: 2.5000e-04\n",
      "Epoch 17/20\n",
      "67/67 [==============================] - ETA: 0s - loss: 0.1715 - categorical_accuracy: 0.9502\n",
      "Epoch 00017: val_loss improved from 0.35976 to 0.31909, saving model to model_init_2022-11-2311_14_32.373018/model-00017-0.17152-0.95025-0.31909-0.90000.h5\n",
      "67/67 [==============================] - 66s 994ms/step - loss: 0.1715 - categorical_accuracy: 0.9502 - val_loss: 0.3191 - val_categorical_accuracy: 0.9000 - lr: 1.2500e-04\n",
      "Epoch 18/20\n",
      "67/67 [==============================] - ETA: 0s - loss: 0.1477 - categorical_accuracy: 0.9453\n",
      "Epoch 00018: val_loss did not improve from 0.31909\n",
      "67/67 [==============================] - 70s 1s/step - loss: 0.1477 - categorical_accuracy: 0.9453 - val_loss: 0.4040 - val_categorical_accuracy: 0.9200 - lr: 1.2500e-04\n",
      "Epoch 19/20\n",
      "67/67 [==============================] - ETA: 0s - loss: 0.1411 - categorical_accuracy: 0.9502\n",
      "Epoch 00019: val_loss improved from 0.31909 to 0.31690, saving model to model_init_2022-11-2311_14_32.373018/model-00019-0.14110-0.95025-0.31690-0.93000.h5\n",
      "67/67 [==============================] - 72s 1s/step - loss: 0.1411 - categorical_accuracy: 0.9502 - val_loss: 0.3169 - val_categorical_accuracy: 0.9300 - lr: 1.2500e-04\n",
      "Epoch 20/20\n",
      "67/67 [==============================] - ETA: 0s - loss: 0.1160 - categorical_accuracy: 0.9751\n",
      "Epoch 00020: val_loss did not improve from 0.31690\n",
      "67/67 [==============================] - 69s 1s/step - loss: 0.1160 - categorical_accuracy: 0.9751 - val_loss: 0.3798 - val_categorical_accuracy: 0.8600 - lr: 1.2500e-04\n"
     ]
    }
   ],
   "source": [
    "num_epochs = 20\n",
    "history4 = model4.fit_generator(train_generator, steps_per_epoch=steps_per_epoch, epochs=num_epochs, verbose=1, \n",
    "                    callbacks=callbacks_list, validation_data=val_generator, \n",
    "                    validation_steps=validation_steps, class_weight=None, workers=1, initial_epoch=0)"
   ]
  },
  {
   "cell_type": "code",
   "execution_count": 39,
   "metadata": {},
   "outputs": [
    {
     "data": {
      "image/png": "[encoded data removed]",
      "text/plain": [
       "<Figure size 1080x288 with 2 Axes>"
      ]
     },
     "metadata": {
      "needs_background": "light"
     },
     "output_type": "display_data"
    }
   ],
   "source": [
    "plot(history4)"
   ]
  },
  {
   "cell_type": "markdown",
   "metadata": {},
   "source": [
    "#### The Accuracy of the model is very good. Model is looking stable but we can try something to increase Validation accuracy.\n",
    "#### Need to try different Model now"
   ]
  },
  {
   "cell_type": "markdown",
   "metadata": {},
   "source": [
    "## Model Method 2: CNN + RNN"
   ]
  },
  {
   "cell_type": "code",
   "execution_count": 42,
   "metadata": {},
   "outputs": [],
   "source": [
    "from keras.models import Sequential, Model\n",
    "from keras.layers import Dense, GRU, Flatten, TimeDistributed, Bidirectional, BatchNormalization, Activation, Dropout, GlobalAveragePooling2D, GlobalAveragePooling3D, ConvLSTM2D\n",
    "from keras.layers.convolutional import Conv2D, Conv3D, MaxPooling2D, MaxPooling3D\n",
    "from keras.layers import Dropout\n",
    "from keras.callbacks import ModelCheckpoint, ReduceLROnPlateau\n",
    "import tensorflow\n",
    "import keras\n",
    "from keras import optimizers\n",
    "#from tensorflow.keras import optimizers"
   ]
  },
  {
   "cell_type": "code",
   "execution_count": 43,
   "metadata": {},
   "outputs": [],
   "source": [
    "batch_size = 10\n",
    "y = 128 # changing image crop size as mobilenet application expects size to be one of [128, 160, 192, 224]\n",
    "z = 128"
   ]
  },
  {
   "cell_type": "code",
   "execution_count": 44,
   "metadata": {},
   "outputs": [
    {
     "name": "stdout",
     "output_type": "stream",
     "text": [
      "Downloading data from https://storage.googleapis.com/tensorflow/keras-applications/mobilenet/mobilenet_1_0_128_tf_no_top.h5\n",
      "17227776/17225924 [==============================] - 3s 0us/step\n",
      "17235968/17225924 [==============================] - 3s 0us/step\n"
     ]
    }
   ],
   "source": [
    "mn = keras.applications.mobilenet.MobileNet(include_top = False, weights='imagenet',input_shape=(128, 128, 3))\n"
   ]
  },
  {
   "cell_type": "code",
   "execution_count": 45,
   "metadata": {},
   "outputs": [],
   "source": [
    "model5 = Sequential()\n",
    "\n",
    "model5.add(TimeDistributed(mn, input_shape = (30,128,128,3)))\n",
    "\n",
    "model5.add(TimeDistributed(Flatten()))\n",
    "\n",
    "model5.add(GRU(64,return_sequences=False))\n",
    "\n",
    "model5.add(Dense(256))\n",
    "model5.add(Activation(\"relu\"))\n",
    "model5.add(Dropout(0.2))\n",
    "\n",
    "model5.add(Dense(5, activation = 'softmax'))"
   ]
  },
  {
   "cell_type": "code",
   "execution_count": 46,
   "metadata": {},
   "outputs": [
    {
     "name": "stdout",
     "output_type": "stream",
     "text": [
      "Model: \"sequential_4\"\n",
      "_________________________________________________________________\n",
      " Layer (type)                Output Shape              Param #   \n",
      "=================================================================\n",
      " time_distributed (TimeDistr  (None, 30, 4, 4, 1024)   3228864   \n",
      " ibuted)                                                         \n",
      "                                                                 \n",
      " time_distributed_1 (TimeDis  (None, 30, 16384)        0         \n",
      " tributed)                                                       \n",
      "                                                                 \n",
      " gru (GRU)                   (None, 64)                3158400   \n",
      "                                                                 \n",
      " dense_9 (Dense)             (None, 256)               16640     \n",
      "                                                                 \n",
      " activation_15 (Activation)  (None, 256)               0         \n",
      "                                                                 \n",
      " dropout_9 (Dropout)         (None, 256)               0         \n",
      "                                                                 \n",
      " dense_10 (Dense)            (None, 5)                 1285      \n",
      "                                                                 \n",
      "=================================================================\n",
      "Total params: 6,405,189\n",
      "Trainable params: 6,383,301\n",
      "Non-trainable params: 21,888\n",
      "_________________________________________________________________\n",
      "None\n"
     ]
    }
   ],
   "source": [
    "#optimiser = optimizers.Adam() #write your optimizer\n",
    "\n",
    "opt = tensorflow.keras.optimizers.SGD(lr=0.001, decay=0.00001, momentum=0.8, nesterov=True)\n",
    "model5.compile(optimizer=opt, loss='categorical_crossentropy', metrics=['categorical_accuracy'])\n",
    "print (model5.summary())"
   ]
  },
  {
   "cell_type": "code",
   "execution_count": 47,
   "metadata": {},
   "outputs": [],
   "source": [
    "train_generator = generator(train_path, train_doc, batch_size)\n",
    "val_generator = generator(val_path, val_doc, batch_size)"
   ]
  },
  {
   "cell_type": "code",
   "execution_count": 48,
   "metadata": {},
   "outputs": [
    {
     "name": "stdout",
     "output_type": "stream",
     "text": [
      "WARNING:tensorflow:`period` argument is deprecated. Please use `save_freq` to specify the frequency in number of batches seen.\n"
     ]
    }
   ],
   "source": [
    "model_name = 'model_init' + '_' + str(curr_dt_time).replace(' ','').replace(':','_') + '/'\n",
    "    \n",
    "if not os.path.exists(model_name):\n",
    "    os.mkdir(model_name)\n",
    "        \n",
    "filepath = model_name + 'model-{epoch:05d}-{loss:.5f}-{categorical_accuracy:.5f}-{val_loss:.5f}-{val_categorical_accuracy:.5f}.h5'\n",
    "\n",
    "checkpoint = ModelCheckpoint(filepath, monitor='val_loss', verbose=1, save_best_only=True, save_weights_only=False, mode='auto', period=1)\n",
    "\n",
    "LR = ReduceLROnPlateau(monitor='val_loss', factor=0.5, patience=2, cooldown=1, verbose=1) # write the REducelronplateau code here\n",
    "callbacks_list = [checkpoint, LR]"
   ]
  },
  {
   "cell_type": "code",
   "execution_count": 49,
   "metadata": {},
   "outputs": [],
   "source": [
    "if (num_train_sequences%batch_size) == 0:\n",
    "    steps_per_epoch = int(num_train_sequences/batch_size)\n",
    "else:\n",
    "    steps_per_epoch = (num_train_sequences//batch_size) + 1\n",
    "\n",
    "if (num_val_sequences%batch_size) == 0:\n",
    "    validation_steps = int(num_val_sequences/batch_size)\n",
    "else:\n",
    "    validation_steps = (num_val_sequences//batch_size) + 1"
   ]
  },
  {
   "cell_type": "code",
   "execution_count": 50,
   "metadata": {},
   "outputs": [
    {
     "name": "stdout",
     "output_type": "stream",
     "text": [
      "Source path =  /home/datasets/Project_data/train ; batch size = 10\n",
      "Epoch 1/15\n",
      "65/67 [============================>.] - ETA: 4s - loss: 1.3683 - categorical_accuracy: 0.4492Batch:  67 Index: 10\n",
      "67/67 [==============================] - ETA: 0s - loss: 1.3646 - categorical_accuracy: 0.4495Source path =  /home/datasets/Project_data/val ; batch size = 10\n",
      "\n",
      "Epoch 00001: val_loss improved from inf to 0.96271, saving model to model_init_2022-11-2311_14_32.373018/model-00001-1.36463-0.44947-0.96271-0.72000.h5\n",
      "67/67 [==============================] - 184s 3s/step - loss: 1.3646 - categorical_accuracy: 0.4495 - val_loss: 0.9627 - val_categorical_accuracy: 0.7200 - lr: 0.0010\n",
      "Epoch 2/15\n",
      "67/67 [==============================] - ETA: 0s - loss: 0.8231 - categorical_accuracy: 0.7811\n",
      "Epoch 00002: val_loss improved from 0.96271 to 0.78411, saving model to model_init_2022-11-2311_14_32.373018/model-00002-0.82311-0.78109-0.78411-0.74000.h5\n",
      "67/67 [==============================] - 69s 1s/step - loss: 0.8231 - categorical_accuracy: 0.7811 - val_loss: 0.7841 - val_categorical_accuracy: 0.7400 - lr: 0.0010\n",
      "Epoch 3/15\n",
      "67/67 [==============================] - ETA: 0s - loss: 0.6539 - categorical_accuracy: 0.8209\n",
      "Epoch 00003: val_loss improved from 0.78411 to 0.59919, saving model to model_init_2022-11-2311_14_32.373018/model-00003-0.65389-0.82090-0.59919-0.73000.h5\n",
      "67/67 [==============================] - 72s 1s/step - loss: 0.6539 - categorical_accuracy: 0.8209 - val_loss: 0.5992 - val_categorical_accuracy: 0.7300 - lr: 0.0010\n",
      "Epoch 4/15\n",
      "67/67 [==============================] - ETA: 0s - loss: 0.5494 - categorical_accuracy: 0.8308\n",
      "Epoch 00004: val_loss improved from 0.59919 to 0.43065, saving model to model_init_2022-11-2311_14_32.373018/model-00004-0.54943-0.83085-0.43065-0.89000.h5\n",
      "67/67 [==============================] - 75s 1s/step - loss: 0.5494 - categorical_accuracy: 0.8308 - val_loss: 0.4306 - val_categorical_accuracy: 0.8900 - lr: 0.0010\n",
      "Epoch 5/15\n",
      "67/67 [==============================] - ETA: 0s - loss: 0.3394 - categorical_accuracy: 0.9154\n",
      "Epoch 00005: val_loss improved from 0.43065 to 0.29391, saving model to model_init_2022-11-2311_14_32.373018/model-00005-0.33944-0.91542-0.29391-0.91000.h5\n",
      "67/67 [==============================] - 70s 1s/step - loss: 0.3394 - categorical_accuracy: 0.9154 - val_loss: 0.2939 - val_categorical_accuracy: 0.9100 - lr: 0.0010\n",
      "Epoch 6/15\n",
      "67/67 [==============================] - ETA: 0s - loss: 0.2421 - categorical_accuracy: 0.9403\n",
      "Epoch 00006: val_loss improved from 0.29391 to 0.27886, saving model to model_init_2022-11-2311_14_32.373018/model-00006-0.24206-0.94030-0.27886-0.90000.h5\n",
      "67/67 [==============================] - 75s 1s/step - loss: 0.2421 - categorical_accuracy: 0.9403 - val_loss: 0.2789 - val_categorical_accuracy: 0.9000 - lr: 0.0010\n",
      "Epoch 7/15\n",
      "67/67 [==============================] - ETA: 0s - loss: 0.2057 - categorical_accuracy: 0.9502\n",
      "Epoch 00007: val_loss improved from 0.27886 to 0.20864, saving model to model_init_2022-11-2311_14_32.373018/model-00007-0.20573-0.95025-0.20864-0.96000.h5\n",
      "67/67 [==============================] - 72s 1s/step - loss: 0.2057 - categorical_accuracy: 0.9502 - val_loss: 0.2086 - val_categorical_accuracy: 0.9600 - lr: 0.0010\n",
      "Epoch 8/15\n",
      "67/67 [==============================] - ETA: 0s - loss: 0.2282 - categorical_accuracy: 0.9254\n",
      "Epoch 00008: val_loss did not improve from 0.20864\n",
      "67/67 [==============================] - 74s 1s/step - loss: 0.2282 - categorical_accuracy: 0.9254 - val_loss: 0.2613 - val_categorical_accuracy: 0.8900 - lr: 0.0010\n",
      "Epoch 9/15\n",
      "67/67 [==============================] - ETA: 0s - loss: 0.0795 - categorical_accuracy: 0.9950\n",
      "Epoch 00009: val_loss did not improve from 0.20864\n",
      "\n",
      "Epoch 00009: ReduceLROnPlateau reducing learning rate to 0.0005000000237487257.\n",
      "67/67 [==============================] - 73s 1s/step - loss: 0.0795 - categorical_accuracy: 0.9950 - val_loss: 0.2247 - val_categorical_accuracy: 0.9400 - lr: 0.0010\n",
      "Epoch 10/15\n",
      "67/67 [==============================] - ETA: 0s - loss: 0.1347 - categorical_accuracy: 0.9602\n",
      "Epoch 00010: val_loss did not improve from 0.20864\n",
      "67/67 [==============================] - 75s 1s/step - loss: 0.1347 - categorical_accuracy: 0.9602 - val_loss: 0.2106 - val_categorical_accuracy: 0.9200 - lr: 5.0000e-04\n",
      "Epoch 11/15\n",
      "67/67 [==============================] - ETA: 0s - loss: 0.0989 - categorical_accuracy: 0.9751\n",
      "Epoch 00011: val_loss did not improve from 0.20864\n",
      "\n",
      "Epoch 00011: ReduceLROnPlateau reducing learning rate to 0.0002500000118743628.\n",
      "67/67 [==============================] - 68s 1s/step - loss: 0.0989 - categorical_accuracy: 0.9751 - val_loss: 0.2139 - val_categorical_accuracy: 0.9400 - lr: 5.0000e-04\n",
      "Epoch 12/15\n",
      "67/67 [==============================] - ETA: 0s - loss: 0.0505 - categorical_accuracy: 1.0000\n",
      "Epoch 00012: val_loss improved from 0.20864 to 0.18707, saving model to model_init_2022-11-2311_14_32.373018/model-00012-0.05055-1.00000-0.18707-0.95000.h5\n",
      "67/67 [==============================] - 71s 1s/step - loss: 0.0505 - categorical_accuracy: 1.0000 - val_loss: 0.1871 - val_categorical_accuracy: 0.9500 - lr: 2.5000e-04\n",
      "Epoch 13/15\n",
      "67/67 [==============================] - ETA: 0s - loss: 0.0520 - categorical_accuracy: 0.9950\n",
      "Epoch 00013: val_loss did not improve from 0.18707\n",
      "67/67 [==============================] - 70s 1s/step - loss: 0.0520 - categorical_accuracy: 0.9950 - val_loss: 0.2291 - val_categorical_accuracy: 0.9200 - lr: 2.5000e-04\n",
      "Epoch 14/15\n",
      "67/67 [==============================] - ETA: 0s - loss: 0.0516 - categorical_accuracy: 0.9900\n",
      "Epoch 00014: val_loss improved from 0.18707 to 0.17812, saving model to model_init_2022-11-2311_14_32.373018/model-00014-0.05161-0.99005-0.17812-0.94000.h5\n",
      "67/67 [==============================] - 84s 1s/step - loss: 0.0516 - categorical_accuracy: 0.9900 - val_loss: 0.1781 - val_categorical_accuracy: 0.9400 - lr: 2.5000e-04\n",
      "Epoch 15/15\n",
      "67/67 [==============================] - ETA: 0s - loss: 0.0361 - categorical_accuracy: 1.0000\n",
      "Epoch 00015: val_loss did not improve from 0.17812\n",
      "67/67 [==============================] - 69s 1s/step - loss: 0.0361 - categorical_accuracy: 1.0000 - val_loss: 0.2526 - val_categorical_accuracy: 0.9100 - lr: 2.5000e-04\n"
     ]
    }
   ],
   "source": [
    "num_epochs = 15\n",
    "history5 = model5.fit_generator(train_generator, steps_per_epoch=steps_per_epoch, epochs=num_epochs, verbose=1, \n",
    "                    callbacks=callbacks_list, validation_data=val_generator, \n",
    "                    validation_steps=validation_steps, class_weight=None, workers=1, initial_epoch=0)"
   ]
  },
  {
   "cell_type": "code",
   "execution_count": 51,
   "metadata": {},
   "outputs": [
    {
     "data": {
      "image/png": "[encoded data removed]",
      "text/plain": [
       "<Figure size 1080x288 with 2 Axes>"
      ]
     },
     "metadata": {
      "needs_background": "light"
     },
     "output_type": "display_data"
    }
   ],
   "source": [
    "plot(history5)"
   ]
  },
  {
   "cell_type": "markdown",
   "metadata": {},
   "source": [
    "#### The Accuracy of the model has increase to acceptable level and Model is looking stable also."
   ]
  },
  {
   "cell_type": "markdown",
   "metadata": {},
   "source": [
    "### Conclusion : We have found the final model that used transfer learning for CNN and stacked with RNN performed better."
   ]
  }
 ],
 "metadata": {
  "kernelspec": {
   "display_name": "Python 3 (ipykernel)",
   "language": "python",
   "name": "python3"
  },
  "language_info": {
   "codemirror_mode": {
    "name": "ipython",
    "version": 3
   },
   "file_extension": ".py",
   "mimetype": "text/x-python",
   "name": "python",
   "nbconvert_exporter": "python",
   "pygments_lexer": "ipython3",
   "version": "3.8.10"
  }
 },
 "nbformat": 4,
 "nbformat_minor": 4
}
